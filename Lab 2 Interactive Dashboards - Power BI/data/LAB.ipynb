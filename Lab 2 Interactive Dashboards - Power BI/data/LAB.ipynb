{
 "cells": [
  {
   "cell_type": "code",
   "execution_count": 136,
   "metadata": {},
   "outputs": [],
   "source": [
    "import pandas as pd\n",
    "import numpy as np\n",
    "import seaborn as sns\n",
    "import matplotlib.pyplot as plt\n",
    "from datetime import datetime\n",
    "pd.set_option('display.max_columns', None)"
   ]
  },
  {
   "cell_type": "code",
   "execution_count": 147,
   "metadata": {},
   "outputs": [],
   "source": [
    "df= pd.read_excel('caraccidentslosangeles.xlsx')"
   ]
  },
  {
   "cell_type": "code",
   "execution_count": 148,
   "metadata": {},
   "outputs": [
    {
     "data": {
      "text/plain": [
       "Index(['ID', 'Severity', 'Start_Time', 'End_Time', 'Start_Lat', 'Start_Lng',\n",
       "       'End_Lat', 'End_Lng', 'Distance(mi)', 'Description', 'Number', 'Street',\n",
       "       'Side', 'City', 'County', 'State', 'Zipcode', 'Country', 'Timezone',\n",
       "       'Airport_Code', 'Weather_Timestamp', 'Temperature(F)', 'Wind_Chill(F)',\n",
       "       'Humidity(%)', 'Pressure(in)', 'Visibility(mi)', 'Wind_Direction',\n",
       "       'Wind_Speed(mph)', 'Precipitation(in)', 'Weather_Condition', 'Amenity',\n",
       "       'Bump', 'Crossing', 'Give_Way', 'Junction', 'No_Exit', 'Railway',\n",
       "       'Roundabout', 'Station', 'Stop', 'Traffic_Calming', 'Traffic_Signal',\n",
       "       'Turning_Loop', 'Sunrise_Sunset', 'Civil_Twilight', 'Nautical_Twilight',\n",
       "       'Astronomical_Twilight'],\n",
       "      dtype='object')"
      ]
     },
     "execution_count": 148,
     "metadata": {},
     "output_type": "execute_result"
    }
   ],
   "source": [
    "df.columns"
   ]
  },
  {
   "cell_type": "code",
   "execution_count": 149,
   "metadata": {},
   "outputs": [
    {
     "data": {
      "text/plain": [
       "(68956, 47)"
      ]
     },
     "execution_count": 149,
     "metadata": {},
     "output_type": "execute_result"
    }
   ],
   "source": [
    "df.shape"
   ]
  },
  {
   "cell_type": "code",
   "execution_count": 150,
   "metadata": {},
   "outputs": [
    {
     "data": {
      "text/html": [
       "<div>\n",
       "<style scoped>\n",
       "    .dataframe tbody tr th:only-of-type {\n",
       "        vertical-align: middle;\n",
       "    }\n",
       "\n",
       "    .dataframe tbody tr th {\n",
       "        vertical-align: top;\n",
       "    }\n",
       "\n",
       "    .dataframe thead th {\n",
       "        text-align: right;\n",
       "    }\n",
       "</style>\n",
       "<table border=\"1\" class=\"dataframe\">\n",
       "  <thead>\n",
       "    <tr style=\"text-align: right;\">\n",
       "      <th></th>\n",
       "      <th>ID</th>\n",
       "      <th>Severity</th>\n",
       "      <th>Start_Time</th>\n",
       "      <th>End_Time</th>\n",
       "      <th>Start_Lat</th>\n",
       "      <th>Start_Lng</th>\n",
       "      <th>End_Lat</th>\n",
       "      <th>End_Lng</th>\n",
       "      <th>Distance(mi)</th>\n",
       "      <th>Description</th>\n",
       "      <th>Number</th>\n",
       "      <th>Street</th>\n",
       "      <th>Side</th>\n",
       "      <th>City</th>\n",
       "      <th>County</th>\n",
       "      <th>State</th>\n",
       "      <th>Zipcode</th>\n",
       "      <th>Country</th>\n",
       "      <th>Timezone</th>\n",
       "      <th>Airport_Code</th>\n",
       "      <th>Weather_Timestamp</th>\n",
       "      <th>Temperature(F)</th>\n",
       "      <th>Wind_Chill(F)</th>\n",
       "      <th>Humidity(%)</th>\n",
       "      <th>Pressure(in)</th>\n",
       "      <th>Visibility(mi)</th>\n",
       "      <th>Wind_Direction</th>\n",
       "      <th>Wind_Speed(mph)</th>\n",
       "      <th>Precipitation(in)</th>\n",
       "      <th>Weather_Condition</th>\n",
       "      <th>Amenity</th>\n",
       "      <th>Bump</th>\n",
       "      <th>Crossing</th>\n",
       "      <th>Give_Way</th>\n",
       "      <th>Junction</th>\n",
       "      <th>No_Exit</th>\n",
       "      <th>Railway</th>\n",
       "      <th>Roundabout</th>\n",
       "      <th>Station</th>\n",
       "      <th>Stop</th>\n",
       "      <th>Traffic_Calming</th>\n",
       "      <th>Traffic_Signal</th>\n",
       "      <th>Turning_Loop</th>\n",
       "      <th>Sunrise_Sunset</th>\n",
       "      <th>Civil_Twilight</th>\n",
       "      <th>Nautical_Twilight</th>\n",
       "      <th>Astronomical_Twilight</th>\n",
       "    </tr>\n",
       "  </thead>\n",
       "  <tbody>\n",
       "    <tr>\n",
       "      <th>0</th>\n",
       "      <td>A-5236</td>\n",
       "      <td>2</td>\n",
       "      <td>2016-03-22 19:36:44</td>\n",
       "      <td>2016-03-23 01:36:44</td>\n",
       "      <td>34.09256</td>\n",
       "      <td>-118.206220</td>\n",
       "      <td>34.092560</td>\n",
       "      <td>-118.206220</td>\n",
       "      <td>0.000</td>\n",
       "      <td>At Avenue 43 - Accident.</td>\n",
       "      <td>NaN</td>\n",
       "      <td>CA-110 N</td>\n",
       "      <td>R</td>\n",
       "      <td>Los Angeles</td>\n",
       "      <td>Los Angeles</td>\n",
       "      <td>CA</td>\n",
       "      <td>90031</td>\n",
       "      <td>US</td>\n",
       "      <td>US/Pacific</td>\n",
       "      <td>KCQT</td>\n",
       "      <td>2016-03-22 19:47:00</td>\n",
       "      <td>64.0</td>\n",
       "      <td>NaN</td>\n",
       "      <td>24.0</td>\n",
       "      <td>30.00</td>\n",
       "      <td>10.0</td>\n",
       "      <td>NNW</td>\n",
       "      <td>9.2</td>\n",
       "      <td>NaN</td>\n",
       "      <td>Clear</td>\n",
       "      <td>False</td>\n",
       "      <td>False</td>\n",
       "      <td>False</td>\n",
       "      <td>False</td>\n",
       "      <td>False</td>\n",
       "      <td>False</td>\n",
       "      <td>False</td>\n",
       "      <td>False</td>\n",
       "      <td>False</td>\n",
       "      <td>True</td>\n",
       "      <td>False</td>\n",
       "      <td>False</td>\n",
       "      <td>False</td>\n",
       "      <td>Night</td>\n",
       "      <td>Night</td>\n",
       "      <td>Day</td>\n",
       "      <td>Day</td>\n",
       "    </tr>\n",
       "    <tr>\n",
       "      <th>1</th>\n",
       "      <td>A-5239</td>\n",
       "      <td>2</td>\n",
       "      <td>2016-03-22 20:59:43</td>\n",
       "      <td>2016-03-23 02:59:43</td>\n",
       "      <td>33.94819</td>\n",
       "      <td>-118.279730</td>\n",
       "      <td>33.946760</td>\n",
       "      <td>-118.279750</td>\n",
       "      <td>0.099</td>\n",
       "      <td>At Century Blvd - Accident.</td>\n",
       "      <td>NaN</td>\n",
       "      <td>I-110 S</td>\n",
       "      <td>R</td>\n",
       "      <td>Los Angeles</td>\n",
       "      <td>Los Angeles</td>\n",
       "      <td>CA</td>\n",
       "      <td>90003</td>\n",
       "      <td>US</td>\n",
       "      <td>US/Pacific</td>\n",
       "      <td>KHHR</td>\n",
       "      <td>2016-03-22 20:53:00</td>\n",
       "      <td>64.0</td>\n",
       "      <td>NaN</td>\n",
       "      <td>23.0</td>\n",
       "      <td>30.02</td>\n",
       "      <td>10.0</td>\n",
       "      <td>NNW</td>\n",
       "      <td>11.5</td>\n",
       "      <td>NaN</td>\n",
       "      <td>Clear</td>\n",
       "      <td>False</td>\n",
       "      <td>False</td>\n",
       "      <td>False</td>\n",
       "      <td>False</td>\n",
       "      <td>False</td>\n",
       "      <td>False</td>\n",
       "      <td>False</td>\n",
       "      <td>False</td>\n",
       "      <td>False</td>\n",
       "      <td>False</td>\n",
       "      <td>False</td>\n",
       "      <td>False</td>\n",
       "      <td>False</td>\n",
       "      <td>Night</td>\n",
       "      <td>Night</td>\n",
       "      <td>Night</td>\n",
       "      <td>Night</td>\n",
       "    </tr>\n",
       "    <tr>\n",
       "      <th>2</th>\n",
       "      <td>A-5254</td>\n",
       "      <td>3</td>\n",
       "      <td>2016-03-23 07:59:47</td>\n",
       "      <td>2016-03-23 13:59:47</td>\n",
       "      <td>34.02330</td>\n",
       "      <td>-118.172880</td>\n",
       "      <td>34.021380</td>\n",
       "      <td>-118.173390</td>\n",
       "      <td>0.136</td>\n",
       "      <td>At Whittier Blvd/Olympic Blvd - Accident.</td>\n",
       "      <td>NaN</td>\n",
       "      <td>Long Beach Fwy S</td>\n",
       "      <td>R</td>\n",
       "      <td>Los Angeles</td>\n",
       "      <td>Los Angeles</td>\n",
       "      <td>CA</td>\n",
       "      <td>90022</td>\n",
       "      <td>US</td>\n",
       "      <td>US/Pacific</td>\n",
       "      <td>KCQT</td>\n",
       "      <td>2016-03-23 07:47:00</td>\n",
       "      <td>55.9</td>\n",
       "      <td>NaN</td>\n",
       "      <td>53.0</td>\n",
       "      <td>30.11</td>\n",
       "      <td>10.0</td>\n",
       "      <td>Calm</td>\n",
       "      <td>NaN</td>\n",
       "      <td>NaN</td>\n",
       "      <td>Clear</td>\n",
       "      <td>False</td>\n",
       "      <td>False</td>\n",
       "      <td>False</td>\n",
       "      <td>False</td>\n",
       "      <td>True</td>\n",
       "      <td>False</td>\n",
       "      <td>False</td>\n",
       "      <td>False</td>\n",
       "      <td>False</td>\n",
       "      <td>False</td>\n",
       "      <td>False</td>\n",
       "      <td>False</td>\n",
       "      <td>False</td>\n",
       "      <td>Day</td>\n",
       "      <td>Day</td>\n",
       "      <td>Day</td>\n",
       "      <td>Day</td>\n",
       "    </tr>\n",
       "    <tr>\n",
       "      <th>3</th>\n",
       "      <td>A-5272</td>\n",
       "      <td>2</td>\n",
       "      <td>2016-03-23 11:50:32</td>\n",
       "      <td>2016-03-23 17:50:32</td>\n",
       "      <td>34.14470</td>\n",
       "      <td>-118.278650</td>\n",
       "      <td>34.141040</td>\n",
       "      <td>-118.277840</td>\n",
       "      <td>0.257</td>\n",
       "      <td>At Colorado St - Accident.</td>\n",
       "      <td>NaN</td>\n",
       "      <td>Golden State Fwy S</td>\n",
       "      <td>R</td>\n",
       "      <td>Los Angeles</td>\n",
       "      <td>Los Angeles</td>\n",
       "      <td>CA</td>\n",
       "      <td>90027</td>\n",
       "      <td>US</td>\n",
       "      <td>US/Pacific</td>\n",
       "      <td>KCQT</td>\n",
       "      <td>2016-03-23 11:47:00</td>\n",
       "      <td>73.9</td>\n",
       "      <td>NaN</td>\n",
       "      <td>14.0</td>\n",
       "      <td>30.15</td>\n",
       "      <td>10.0</td>\n",
       "      <td>Calm</td>\n",
       "      <td>NaN</td>\n",
       "      <td>NaN</td>\n",
       "      <td>Clear</td>\n",
       "      <td>False</td>\n",
       "      <td>False</td>\n",
       "      <td>False</td>\n",
       "      <td>False</td>\n",
       "      <td>False</td>\n",
       "      <td>False</td>\n",
       "      <td>False</td>\n",
       "      <td>False</td>\n",
       "      <td>False</td>\n",
       "      <td>False</td>\n",
       "      <td>False</td>\n",
       "      <td>False</td>\n",
       "      <td>False</td>\n",
       "      <td>Day</td>\n",
       "      <td>Day</td>\n",
       "      <td>Day</td>\n",
       "      <td>Day</td>\n",
       "    </tr>\n",
       "    <tr>\n",
       "      <th>4</th>\n",
       "      <td>A-5274</td>\n",
       "      <td>2</td>\n",
       "      <td>2016-03-23 12:16:45</td>\n",
       "      <td>2016-03-23 18:16:45</td>\n",
       "      <td>34.09914</td>\n",
       "      <td>-118.251853</td>\n",
       "      <td>34.099817</td>\n",
       "      <td>-118.251396</td>\n",
       "      <td>0.054</td>\n",
       "      <td>At I-5/Golden State Fwy - Accident. Left lane ...</td>\n",
       "      <td>NaN</td>\n",
       "      <td>CA-2 S</td>\n",
       "      <td>R</td>\n",
       "      <td>Los Angeles</td>\n",
       "      <td>Los Angeles</td>\n",
       "      <td>CA</td>\n",
       "      <td>90039</td>\n",
       "      <td>US</td>\n",
       "      <td>US/Pacific</td>\n",
       "      <td>KCQT</td>\n",
       "      <td>2016-03-23 11:47:00</td>\n",
       "      <td>73.9</td>\n",
       "      <td>NaN</td>\n",
       "      <td>14.0</td>\n",
       "      <td>30.15</td>\n",
       "      <td>10.0</td>\n",
       "      <td>Calm</td>\n",
       "      <td>NaN</td>\n",
       "      <td>NaN</td>\n",
       "      <td>Clear</td>\n",
       "      <td>False</td>\n",
       "      <td>False</td>\n",
       "      <td>False</td>\n",
       "      <td>False</td>\n",
       "      <td>False</td>\n",
       "      <td>False</td>\n",
       "      <td>False</td>\n",
       "      <td>False</td>\n",
       "      <td>False</td>\n",
       "      <td>False</td>\n",
       "      <td>False</td>\n",
       "      <td>False</td>\n",
       "      <td>False</td>\n",
       "      <td>Day</td>\n",
       "      <td>Day</td>\n",
       "      <td>Day</td>\n",
       "      <td>Day</td>\n",
       "    </tr>\n",
       "  </tbody>\n",
       "</table>\n",
       "</div>"
      ],
      "text/plain": [
       "       ID  Severity           Start_Time             End_Time  Start_Lat  \\\n",
       "0  A-5236         2  2016-03-22 19:36:44  2016-03-23 01:36:44   34.09256   \n",
       "1  A-5239         2  2016-03-22 20:59:43  2016-03-23 02:59:43   33.94819   \n",
       "2  A-5254         3  2016-03-23 07:59:47  2016-03-23 13:59:47   34.02330   \n",
       "3  A-5272         2  2016-03-23 11:50:32  2016-03-23 17:50:32   34.14470   \n",
       "4  A-5274         2  2016-03-23 12:16:45  2016-03-23 18:16:45   34.09914   \n",
       "\n",
       "    Start_Lng    End_Lat     End_Lng  Distance(mi)  \\\n",
       "0 -118.206220  34.092560 -118.206220         0.000   \n",
       "1 -118.279730  33.946760 -118.279750         0.099   \n",
       "2 -118.172880  34.021380 -118.173390         0.136   \n",
       "3 -118.278650  34.141040 -118.277840         0.257   \n",
       "4 -118.251853  34.099817 -118.251396         0.054   \n",
       "\n",
       "                                         Description  Number  \\\n",
       "0                           At Avenue 43 - Accident.     NaN   \n",
       "1                        At Century Blvd - Accident.     NaN   \n",
       "2          At Whittier Blvd/Olympic Blvd - Accident.     NaN   \n",
       "3                         At Colorado St - Accident.     NaN   \n",
       "4  At I-5/Golden State Fwy - Accident. Left lane ...     NaN   \n",
       "\n",
       "               Street Side         City       County State Zipcode Country  \\\n",
       "0            CA-110 N    R  Los Angeles  Los Angeles    CA   90031      US   \n",
       "1             I-110 S    R  Los Angeles  Los Angeles    CA   90003      US   \n",
       "2    Long Beach Fwy S    R  Los Angeles  Los Angeles    CA   90022      US   \n",
       "3  Golden State Fwy S    R  Los Angeles  Los Angeles    CA   90027      US   \n",
       "4              CA-2 S    R  Los Angeles  Los Angeles    CA   90039      US   \n",
       "\n",
       "     Timezone Airport_Code    Weather_Timestamp  Temperature(F)  \\\n",
       "0  US/Pacific         KCQT  2016-03-22 19:47:00            64.0   \n",
       "1  US/Pacific         KHHR  2016-03-22 20:53:00            64.0   \n",
       "2  US/Pacific         KCQT  2016-03-23 07:47:00            55.9   \n",
       "3  US/Pacific         KCQT  2016-03-23 11:47:00            73.9   \n",
       "4  US/Pacific         KCQT  2016-03-23 11:47:00            73.9   \n",
       "\n",
       "   Wind_Chill(F)  Humidity(%)  Pressure(in)  Visibility(mi) Wind_Direction  \\\n",
       "0            NaN         24.0         30.00            10.0            NNW   \n",
       "1            NaN         23.0         30.02            10.0            NNW   \n",
       "2            NaN         53.0         30.11            10.0           Calm   \n",
       "3            NaN         14.0         30.15            10.0           Calm   \n",
       "4            NaN         14.0         30.15            10.0           Calm   \n",
       "\n",
       "   Wind_Speed(mph)  Precipitation(in) Weather_Condition  Amenity   Bump  \\\n",
       "0              9.2                NaN             Clear    False  False   \n",
       "1             11.5                NaN             Clear    False  False   \n",
       "2              NaN                NaN             Clear    False  False   \n",
       "3              NaN                NaN             Clear    False  False   \n",
       "4              NaN                NaN             Clear    False  False   \n",
       "\n",
       "   Crossing  Give_Way  Junction  No_Exit  Railway  Roundabout  Station   Stop  \\\n",
       "0     False     False     False    False    False       False    False   True   \n",
       "1     False     False     False    False    False       False    False  False   \n",
       "2     False     False      True    False    False       False    False  False   \n",
       "3     False     False     False    False    False       False    False  False   \n",
       "4     False     False     False    False    False       False    False  False   \n",
       "\n",
       "   Traffic_Calming  Traffic_Signal  Turning_Loop Sunrise_Sunset  \\\n",
       "0            False           False         False          Night   \n",
       "1            False           False         False          Night   \n",
       "2            False           False         False            Day   \n",
       "3            False           False         False            Day   \n",
       "4            False           False         False            Day   \n",
       "\n",
       "  Civil_Twilight Nautical_Twilight Astronomical_Twilight  \n",
       "0          Night               Day                   Day  \n",
       "1          Night             Night                 Night  \n",
       "2            Day               Day                   Day  \n",
       "3            Day               Day                   Day  \n",
       "4            Day               Day                   Day  "
      ]
     },
     "execution_count": 150,
     "metadata": {},
     "output_type": "execute_result"
    }
   ],
   "source": [
    "df.head()"
   ]
  },
  {
   "cell_type": "code",
   "execution_count": null,
   "metadata": {},
   "outputs": [
    {
     "data": {
      "text/plain": [
       "68951   NaN\n",
       "68952   NaN\n",
       "68953   NaN\n",
       "68954   NaN\n",
       "68955   NaN\n",
       "Name: Number, dtype: float64"
      ]
     },
     "execution_count": 18,
     "metadata": {},
     "output_type": "execute_result"
    }
   ],
   "source": [
    "df['Number'].tail()"
   ]
  },
  {
   "cell_type": "code",
   "execution_count": null,
   "metadata": {},
   "outputs": [
    {
     "name": "stdout",
     "output_type": "stream",
     "text": [
      "<class 'pandas.core.frame.DataFrame'>\n",
      "RangeIndex: 68956 entries, 0 to 68955\n",
      "Data columns (total 47 columns):\n",
      " #   Column                 Non-Null Count  Dtype  \n",
      "---  ------                 --------------  -----  \n",
      " 0   ID                     68956 non-null  object \n",
      " 1   Severity               68956 non-null  int64  \n",
      " 2   Start_Time             68956 non-null  object \n",
      " 3   End_Time               68956 non-null  object \n",
      " 4   Start_Lat              68956 non-null  float64\n",
      " 5   Start_Lng              68956 non-null  float64\n",
      " 6   End_Lat                68956 non-null  float64\n",
      " 7   End_Lng                68956 non-null  float64\n",
      " 8   Distance(mi)           68956 non-null  float64\n",
      " 9   Description            68956 non-null  object \n",
      " 10  Number                 22123 non-null  float64\n",
      " 11  Street                 68956 non-null  object \n",
      " 12  Side                   68956 non-null  object \n",
      " 13  City                   68956 non-null  object \n",
      " 14  County                 68956 non-null  object \n",
      " 15  State                  68956 non-null  object \n",
      " 16  Zipcode                68956 non-null  object \n",
      " 17  Country                68956 non-null  object \n",
      " 18  Timezone               68956 non-null  object \n",
      " 19  Airport_Code           68956 non-null  object \n",
      " 20  Weather_Timestamp      68733 non-null  object \n",
      " 21  Temperature(F)         68414 non-null  float64\n",
      " 22  Wind_Chill(F)          56594 non-null  float64\n",
      " 23  Humidity(%)            68404 non-null  float64\n",
      " 24  Pressure(in)           68459 non-null  float64\n",
      " 25  Visibility(mi)         68630 non-null  float64\n",
      " 26  Wind_Direction         67592 non-null  object \n",
      " 27  Wind_Speed(mph)        63330 non-null  float64\n",
      " 28  Precipitation(in)      58428 non-null  float64\n",
      " 29  Weather_Condition      68655 non-null  object \n",
      " 30  Amenity                68956 non-null  bool   \n",
      " 31  Bump                   68956 non-null  bool   \n",
      " 32  Crossing               68956 non-null  bool   \n",
      " 33  Give_Way               68956 non-null  bool   \n",
      " 34  Junction               68956 non-null  bool   \n",
      " 35  No_Exit                68956 non-null  bool   \n",
      " 36  Railway                68956 non-null  bool   \n",
      " 37  Roundabout             68956 non-null  bool   \n",
      " 38  Station                68956 non-null  bool   \n",
      " 39  Stop                   68956 non-null  bool   \n",
      " 40  Traffic_Calming        68956 non-null  bool   \n",
      " 41  Traffic_Signal         68956 non-null  bool   \n",
      " 42  Turning_Loop           68956 non-null  bool   \n",
      " 43  Sunrise_Sunset         68956 non-null  object \n",
      " 44  Civil_Twilight         68956 non-null  object \n",
      " 45  Nautical_Twilight      68956 non-null  object \n",
      " 46  Astronomical_Twilight  68956 non-null  object \n",
      "dtypes: bool(13), float64(13), int64(1), object(20)\n",
      "memory usage: 18.7+ MB\n"
     ]
    }
   ],
   "source": [
    "df.info()"
   ]
  },
  {
   "cell_type": "code",
   "execution_count": null,
   "metadata": {},
   "outputs": [
    {
     "data": {
      "text/plain": [
       "ID                           0\n",
       "Severity                     0\n",
       "Start_Time                   0\n",
       "End_Time                     0\n",
       "Start_Lat                    0\n",
       "Start_Lng                    0\n",
       "End_Lat                      0\n",
       "End_Lng                      0\n",
       "Distance(mi)                 0\n",
       "Description                  0\n",
       "Number                   46833\n",
       "Street                       0\n",
       "Side                         0\n",
       "City                         0\n",
       "County                       0\n",
       "State                        0\n",
       "Zipcode                      0\n",
       "Country                      0\n",
       "Timezone                     0\n",
       "Airport_Code                 0\n",
       "Weather_Timestamp          223\n",
       "Temperature(F)             542\n",
       "Wind_Chill(F)            12362\n",
       "Humidity(%)                552\n",
       "Pressure(in)               497\n",
       "Visibility(mi)             326\n",
       "Wind_Direction            1364\n",
       "Wind_Speed(mph)           5626\n",
       "Precipitation(in)        10528\n",
       "Weather_Condition          301\n",
       "Amenity                      0\n",
       "Bump                         0\n",
       "Crossing                     0\n",
       "Give_Way                     0\n",
       "Junction                     0\n",
       "No_Exit                      0\n",
       "Railway                      0\n",
       "Roundabout                   0\n",
       "Station                      0\n",
       "Stop                         0\n",
       "Traffic_Calming              0\n",
       "Traffic_Signal               0\n",
       "Turning_Loop                 0\n",
       "Sunrise_Sunset               0\n",
       "Civil_Twilight               0\n",
       "Nautical_Twilight            0\n",
       "Astronomical_Twilight        0\n",
       "dtype: int64"
      ]
     },
     "execution_count": 15,
     "metadata": {},
     "output_type": "execute_result"
    }
   ],
   "source": [
    "df.isna().sum()"
   ]
  },
  {
   "cell_type": "code",
   "execution_count": null,
   "metadata": {},
   "outputs": [
    {
     "data": {
      "text/plain": [
       "5857"
      ]
     },
     "execution_count": 40,
     "metadata": {},
     "output_type": "execute_result"
    }
   ],
   "source": [
    "df['Zipcode'].nunique()"
   ]
  },
  {
   "cell_type": "code",
   "execution_count": null,
   "metadata": {},
   "outputs": [
    {
     "data": {
      "text/plain": [
       "1604"
      ]
     },
     "execution_count": 42,
     "metadata": {},
     "output_type": "execute_result"
    }
   ],
   "source": [
    "df['Street'].nunique()"
   ]
  },
  {
   "cell_type": "code",
   "execution_count": null,
   "metadata": {},
   "outputs": [
    {
     "data": {
      "text/plain": [
       "array(['Clear', 'Overcast', 'Light Rain', 'Mostly Cloudy',\n",
       "       'Partly Cloudy', 'Scattered Clouds', 'Haze', 'Rain', 'Mist',\n",
       "       'Smoke', 'Heavy Rain', 'Fog', nan, 'Patches of Fog', 'Fair',\n",
       "       'Cloudy', 'Light Rain / Windy', 'Heavy Rain / Windy',\n",
       "       'Heavy T-Storm', 'Fair / Windy', 'Duststorm',\n",
       "       'Light Rain with Thunder', 'T-Storm', 'Rain / Windy',\n",
       "       'Mostly Cloudy / Windy', 'Light Drizzle', 'Partly Cloudy / Windy',\n",
       "       'Blowing Dust', 'Thunder', 'Shallow Fog', 'Thunderstorm'],\n",
       "      dtype=object)"
      ]
     },
     "execution_count": 19,
     "metadata": {},
     "output_type": "execute_result"
    }
   ],
   "source": [
    "df['Weather_Condition'].unique()"
   ]
  },
  {
   "cell_type": "code",
   "execution_count": null,
   "metadata": {},
   "outputs": [
    {
     "data": {
      "text/plain": [
       "array(['2016-03-22 19:47:00', '2016-03-22 20:53:00',\n",
       "       '2016-03-23 07:47:00', ..., '2019-08-23 12:52:00',\n",
       "       '2019-08-23 13:52:00', '2019-08-23 15:51:00'], dtype=object)"
      ]
     },
     "execution_count": 20,
     "metadata": {},
     "output_type": "execute_result"
    }
   ],
   "source": [
    "df['Weather_Timestamp'].unique()"
   ]
  },
  {
   "cell_type": "code",
   "execution_count": null,
   "metadata": {},
   "outputs": [
    {
     "data": {
      "text/plain": [
       "array(['US/Pacific'], dtype=object)"
      ]
     },
     "execution_count": 38,
     "metadata": {},
     "output_type": "execute_result"
    }
   ],
   "source": [
    "df['Timezone'].unique()"
   ]
  },
  {
   "cell_type": "code",
   "execution_count": null,
   "metadata": {},
   "outputs": [
    {
     "data": {
      "text/plain": [
       "array(['Night', 'Day'], dtype=object)"
      ]
     },
     "execution_count": 26,
     "metadata": {},
     "output_type": "execute_result"
    }
   ],
   "source": [
    "df['Sunrise_Sunset'].unique()"
   ]
  },
  {
   "cell_type": "code",
   "execution_count": null,
   "metadata": {},
   "outputs": [
    {
     "data": {
      "text/plain": [
       "array(['Night', 'Day'], dtype=object)"
      ]
     },
     "execution_count": 27,
     "metadata": {},
     "output_type": "execute_result"
    }
   ],
   "source": [
    "df['Civil_Twilight'].unique()"
   ]
  },
  {
   "cell_type": "code",
   "execution_count": null,
   "metadata": {},
   "outputs": [
    {
     "data": {
      "text/plain": [
       "0                             At Avenue 43 - Accident.\n",
       "1                          At Century Blvd - Accident.\n",
       "2            At Whittier Blvd/Olympic Blvd - Accident.\n",
       "3                           At Colorado St - Accident.\n",
       "4    At I-5/Golden State Fwy - Accident. Left lane ...\n",
       "Name: Description, dtype: object"
      ]
     },
     "execution_count": 46,
     "metadata": {},
     "output_type": "execute_result"
    }
   ],
   "source": [
    "df['Description'].head()"
   ]
  },
  {
   "cell_type": "code",
   "execution_count": null,
   "metadata": {},
   "outputs": [
    {
     "data": {
      "text/plain": [
       "0                  CA-110 N\n",
       "1                   I-110 S\n",
       "2          Long Beach Fwy S\n",
       "3        Golden State Fwy S\n",
       "4                    CA-2 S\n",
       "                ...        \n",
       "68951       San Diego Fwy S\n",
       "68952       Hollywood Fwy S\n",
       "68953          Harbor Fwy N\n",
       "68954       Hollywood Fwy S\n",
       "68955               I-405 N\n",
       "Name: Street, Length: 68956, dtype: object"
      ]
     },
     "execution_count": 34,
     "metadata": {},
     "output_type": "execute_result"
    }
   ],
   "source": [
    "df['Street']"
   ]
  },
  {
   "cell_type": "code",
   "execution_count": null,
   "metadata": {},
   "outputs": [
    {
     "data": {
      "text/plain": [
       "0   NaN\n",
       "1   NaN\n",
       "2   NaN\n",
       "3   NaN\n",
       "4   NaN\n",
       "Name: Number, dtype: float64"
      ]
     },
     "execution_count": 35,
     "metadata": {},
     "output_type": "execute_result"
    }
   ],
   "source": [
    "df['Number'].head()"
   ]
  },
  {
   "cell_type": "code",
   "execution_count": null,
   "metadata": {},
   "outputs": [
    {
     "data": {
      "text/plain": [
       "array(['Los Angeles'], dtype=object)"
      ]
     },
     "execution_count": 37,
     "metadata": {},
     "output_type": "execute_result"
    }
   ],
   "source": [
    "df['County'].unique()"
   ]
  },
  {
   "cell_type": "code",
   "execution_count": null,
   "metadata": {},
   "outputs": [
    {
     "data": {
      "text/html": [
       "<div>\n",
       "<style scoped>\n",
       "    .dataframe tbody tr th:only-of-type {\n",
       "        vertical-align: middle;\n",
       "    }\n",
       "\n",
       "    .dataframe tbody tr th {\n",
       "        vertical-align: top;\n",
       "    }\n",
       "\n",
       "    .dataframe thead th {\n",
       "        text-align: right;\n",
       "    }\n",
       "</style>\n",
       "<table border=\"1\" class=\"dataframe\">\n",
       "  <thead>\n",
       "    <tr style=\"text-align: right;\">\n",
       "      <th></th>\n",
       "      <th>ID</th>\n",
       "      <th>Severity</th>\n",
       "      <th>Start_Time</th>\n",
       "      <th>End_Time</th>\n",
       "      <th>Start_Lat</th>\n",
       "      <th>Start_Lng</th>\n",
       "      <th>End_Lat</th>\n",
       "      <th>End_Lng</th>\n",
       "      <th>Distance(mi)</th>\n",
       "      <th>Description</th>\n",
       "      <th>Number</th>\n",
       "      <th>Street</th>\n",
       "      <th>Side</th>\n",
       "      <th>City</th>\n",
       "      <th>County</th>\n",
       "      <th>State</th>\n",
       "      <th>Zipcode</th>\n",
       "      <th>Country</th>\n",
       "      <th>Timezone</th>\n",
       "      <th>Airport_Code</th>\n",
       "      <th>Weather_Timestamp</th>\n",
       "      <th>Temperature(F)</th>\n",
       "      <th>Wind_Chill(F)</th>\n",
       "      <th>Humidity(%)</th>\n",
       "      <th>Pressure(in)</th>\n",
       "      <th>Visibility(mi)</th>\n",
       "      <th>Wind_Direction</th>\n",
       "      <th>Wind_Speed(mph)</th>\n",
       "      <th>Precipitation(in)</th>\n",
       "      <th>Weather_Condition</th>\n",
       "      <th>Amenity</th>\n",
       "      <th>Bump</th>\n",
       "      <th>Crossing</th>\n",
       "      <th>Give_Way</th>\n",
       "      <th>Junction</th>\n",
       "      <th>No_Exit</th>\n",
       "      <th>Railway</th>\n",
       "      <th>Roundabout</th>\n",
       "      <th>Station</th>\n",
       "      <th>Stop</th>\n",
       "      <th>Traffic_Calming</th>\n",
       "      <th>Traffic_Signal</th>\n",
       "      <th>Turning_Loop</th>\n",
       "      <th>Sunrise_Sunset</th>\n",
       "      <th>Civil_Twilight</th>\n",
       "      <th>Nautical_Twilight</th>\n",
       "      <th>Astronomical_Twilight</th>\n",
       "    </tr>\n",
       "  </thead>\n",
       "  <tbody>\n",
       "    <tr>\n",
       "      <th>68951</th>\n",
       "      <td>A-2844906</td>\n",
       "      <td>2</td>\n",
       "      <td>2019-08-22 17:07:14</td>\n",
       "      <td>2019-08-22 17:36:02</td>\n",
       "      <td>34.03693</td>\n",
       "      <td>-118.43877</td>\n",
       "      <td>34.02559</td>\n",
       "      <td>-118.42918</td>\n",
       "      <td>0.957</td>\n",
       "      <td>At I-10/Santa Monica Fwy - Accident.</td>\n",
       "      <td>NaN</td>\n",
       "      <td>San Diego Fwy S</td>\n",
       "      <td>R</td>\n",
       "      <td>Los Angeles</td>\n",
       "      <td>Los Angeles</td>\n",
       "      <td>CA</td>\n",
       "      <td>90064</td>\n",
       "      <td>US</td>\n",
       "      <td>US/Pacific</td>\n",
       "      <td>KSMO</td>\n",
       "      <td>2019-08-22 16:51:00</td>\n",
       "      <td>72.0</td>\n",
       "      <td>72.0</td>\n",
       "      <td>76.0</td>\n",
       "      <td>29.57</td>\n",
       "      <td>10.0</td>\n",
       "      <td>SW</td>\n",
       "      <td>8.0</td>\n",
       "      <td>0.0</td>\n",
       "      <td>Fair</td>\n",
       "      <td>False</td>\n",
       "      <td>False</td>\n",
       "      <td>False</td>\n",
       "      <td>False</td>\n",
       "      <td>True</td>\n",
       "      <td>False</td>\n",
       "      <td>False</td>\n",
       "      <td>False</td>\n",
       "      <td>False</td>\n",
       "      <td>False</td>\n",
       "      <td>False</td>\n",
       "      <td>False</td>\n",
       "      <td>False</td>\n",
       "      <td>Day</td>\n",
       "      <td>Day</td>\n",
       "      <td>Day</td>\n",
       "      <td>Day</td>\n",
       "    </tr>\n",
       "    <tr>\n",
       "      <th>68952</th>\n",
       "      <td>A-2845306</td>\n",
       "      <td>3</td>\n",
       "      <td>2019-08-23 04:04:48</td>\n",
       "      <td>2019-08-23 04:33:53</td>\n",
       "      <td>34.07579</td>\n",
       "      <td>-118.27668</td>\n",
       "      <td>34.07431</td>\n",
       "      <td>-118.27225</td>\n",
       "      <td>0.273</td>\n",
       "      <td>At Benton Way/Rampart Blvd/Exit 5A - Accident.</td>\n",
       "      <td>NaN</td>\n",
       "      <td>Hollywood Fwy S</td>\n",
       "      <td>R</td>\n",
       "      <td>Los Angeles</td>\n",
       "      <td>Los Angeles</td>\n",
       "      <td>CA</td>\n",
       "      <td>90026</td>\n",
       "      <td>US</td>\n",
       "      <td>US/Pacific</td>\n",
       "      <td>KCQT</td>\n",
       "      <td>2019-08-23 03:52:00</td>\n",
       "      <td>67.0</td>\n",
       "      <td>67.0</td>\n",
       "      <td>79.0</td>\n",
       "      <td>29.62</td>\n",
       "      <td>7.0</td>\n",
       "      <td>CALM</td>\n",
       "      <td>0.0</td>\n",
       "      <td>0.0</td>\n",
       "      <td>Cloudy</td>\n",
       "      <td>False</td>\n",
       "      <td>False</td>\n",
       "      <td>False</td>\n",
       "      <td>False</td>\n",
       "      <td>False</td>\n",
       "      <td>False</td>\n",
       "      <td>False</td>\n",
       "      <td>False</td>\n",
       "      <td>False</td>\n",
       "      <td>False</td>\n",
       "      <td>False</td>\n",
       "      <td>False</td>\n",
       "      <td>False</td>\n",
       "      <td>Night</td>\n",
       "      <td>Night</td>\n",
       "      <td>Night</td>\n",
       "      <td>Night</td>\n",
       "    </tr>\n",
       "    <tr>\n",
       "      <th>68953</th>\n",
       "      <td>A-2845310</td>\n",
       "      <td>2</td>\n",
       "      <td>2019-08-23 12:52:31</td>\n",
       "      <td>2019-08-23 13:20:14</td>\n",
       "      <td>34.02379</td>\n",
       "      <td>-118.27639</td>\n",
       "      <td>34.02576</td>\n",
       "      <td>-118.27529</td>\n",
       "      <td>0.150</td>\n",
       "      <td>At 28th St - Accident.</td>\n",
       "      <td>NaN</td>\n",
       "      <td>Harbor Fwy N</td>\n",
       "      <td>R</td>\n",
       "      <td>Los Angeles</td>\n",
       "      <td>Los Angeles</td>\n",
       "      <td>CA</td>\n",
       "      <td>90007</td>\n",
       "      <td>US</td>\n",
       "      <td>US/Pacific</td>\n",
       "      <td>KCQT</td>\n",
       "      <td>2019-08-23 12:52:00</td>\n",
       "      <td>81.0</td>\n",
       "      <td>81.0</td>\n",
       "      <td>49.0</td>\n",
       "      <td>29.66</td>\n",
       "      <td>8.0</td>\n",
       "      <td>CALM</td>\n",
       "      <td>0.0</td>\n",
       "      <td>0.0</td>\n",
       "      <td>Fair</td>\n",
       "      <td>False</td>\n",
       "      <td>False</td>\n",
       "      <td>False</td>\n",
       "      <td>False</td>\n",
       "      <td>False</td>\n",
       "      <td>False</td>\n",
       "      <td>False</td>\n",
       "      <td>False</td>\n",
       "      <td>False</td>\n",
       "      <td>False</td>\n",
       "      <td>False</td>\n",
       "      <td>False</td>\n",
       "      <td>False</td>\n",
       "      <td>Day</td>\n",
       "      <td>Day</td>\n",
       "      <td>Day</td>\n",
       "      <td>Day</td>\n",
       "    </tr>\n",
       "    <tr>\n",
       "      <th>68954</th>\n",
       "      <td>A-2845313</td>\n",
       "      <td>2</td>\n",
       "      <td>2019-08-23 13:42:50</td>\n",
       "      <td>2019-08-23 14:10:06</td>\n",
       "      <td>34.07061</td>\n",
       "      <td>-118.26391</td>\n",
       "      <td>34.06974</td>\n",
       "      <td>-118.26155</td>\n",
       "      <td>0.148</td>\n",
       "      <td>At Glendale Blvd/Union Ave - Accident.</td>\n",
       "      <td>NaN</td>\n",
       "      <td>Hollywood Fwy S</td>\n",
       "      <td>R</td>\n",
       "      <td>Los Angeles</td>\n",
       "      <td>Los Angeles</td>\n",
       "      <td>CA</td>\n",
       "      <td>90026</td>\n",
       "      <td>US</td>\n",
       "      <td>US/Pacific</td>\n",
       "      <td>KCQT</td>\n",
       "      <td>2019-08-23 13:52:00</td>\n",
       "      <td>82.0</td>\n",
       "      <td>82.0</td>\n",
       "      <td>47.0</td>\n",
       "      <td>29.65</td>\n",
       "      <td>9.0</td>\n",
       "      <td>CALM</td>\n",
       "      <td>0.0</td>\n",
       "      <td>0.0</td>\n",
       "      <td>Fair</td>\n",
       "      <td>False</td>\n",
       "      <td>False</td>\n",
       "      <td>False</td>\n",
       "      <td>False</td>\n",
       "      <td>True</td>\n",
       "      <td>False</td>\n",
       "      <td>False</td>\n",
       "      <td>False</td>\n",
       "      <td>False</td>\n",
       "      <td>False</td>\n",
       "      <td>False</td>\n",
       "      <td>False</td>\n",
       "      <td>False</td>\n",
       "      <td>Day</td>\n",
       "      <td>Day</td>\n",
       "      <td>Day</td>\n",
       "      <td>Day</td>\n",
       "    </tr>\n",
       "    <tr>\n",
       "      <th>68955</th>\n",
       "      <td>A-2845325</td>\n",
       "      <td>2</td>\n",
       "      <td>2019-08-23 15:45:43</td>\n",
       "      <td>2019-08-23 16:14:31</td>\n",
       "      <td>34.04365</td>\n",
       "      <td>-118.44373</td>\n",
       "      <td>34.04934</td>\n",
       "      <td>-118.44842</td>\n",
       "      <td>0.476</td>\n",
       "      <td>At CA-2/Santa Monica Blvd/Exit 55A - Accident.</td>\n",
       "      <td>NaN</td>\n",
       "      <td>I-405 N</td>\n",
       "      <td>R</td>\n",
       "      <td>Los Angeles</td>\n",
       "      <td>Los Angeles</td>\n",
       "      <td>CA</td>\n",
       "      <td>90025</td>\n",
       "      <td>US</td>\n",
       "      <td>US/Pacific</td>\n",
       "      <td>KSMO</td>\n",
       "      <td>2019-08-23 15:51:00</td>\n",
       "      <td>74.0</td>\n",
       "      <td>74.0</td>\n",
       "      <td>66.0</td>\n",
       "      <td>29.64</td>\n",
       "      <td>10.0</td>\n",
       "      <td>W</td>\n",
       "      <td>8.0</td>\n",
       "      <td>0.0</td>\n",
       "      <td>Fair</td>\n",
       "      <td>False</td>\n",
       "      <td>False</td>\n",
       "      <td>False</td>\n",
       "      <td>False</td>\n",
       "      <td>True</td>\n",
       "      <td>False</td>\n",
       "      <td>False</td>\n",
       "      <td>False</td>\n",
       "      <td>False</td>\n",
       "      <td>False</td>\n",
       "      <td>False</td>\n",
       "      <td>False</td>\n",
       "      <td>False</td>\n",
       "      <td>Day</td>\n",
       "      <td>Day</td>\n",
       "      <td>Day</td>\n",
       "      <td>Day</td>\n",
       "    </tr>\n",
       "  </tbody>\n",
       "</table>\n",
       "</div>"
      ],
      "text/plain": [
       "              ID  Severity           Start_Time             End_Time  \\\n",
       "68951  A-2844906         2  2019-08-22 17:07:14  2019-08-22 17:36:02   \n",
       "68952  A-2845306         3  2019-08-23 04:04:48  2019-08-23 04:33:53   \n",
       "68953  A-2845310         2  2019-08-23 12:52:31  2019-08-23 13:20:14   \n",
       "68954  A-2845313         2  2019-08-23 13:42:50  2019-08-23 14:10:06   \n",
       "68955  A-2845325         2  2019-08-23 15:45:43  2019-08-23 16:14:31   \n",
       "\n",
       "       Start_Lat  Start_Lng   End_Lat    End_Lng  Distance(mi)  \\\n",
       "68951   34.03693 -118.43877  34.02559 -118.42918         0.957   \n",
       "68952   34.07579 -118.27668  34.07431 -118.27225         0.273   \n",
       "68953   34.02379 -118.27639  34.02576 -118.27529         0.150   \n",
       "68954   34.07061 -118.26391  34.06974 -118.26155         0.148   \n",
       "68955   34.04365 -118.44373  34.04934 -118.44842         0.476   \n",
       "\n",
       "                                          Description  Number  \\\n",
       "68951            At I-10/Santa Monica Fwy - Accident.     NaN   \n",
       "68952  At Benton Way/Rampart Blvd/Exit 5A - Accident.     NaN   \n",
       "68953                          At 28th St - Accident.     NaN   \n",
       "68954          At Glendale Blvd/Union Ave - Accident.     NaN   \n",
       "68955  At CA-2/Santa Monica Blvd/Exit 55A - Accident.     NaN   \n",
       "\n",
       "                Street Side         City       County State Zipcode Country  \\\n",
       "68951  San Diego Fwy S    R  Los Angeles  Los Angeles    CA   90064      US   \n",
       "68952  Hollywood Fwy S    R  Los Angeles  Los Angeles    CA   90026      US   \n",
       "68953     Harbor Fwy N    R  Los Angeles  Los Angeles    CA   90007      US   \n",
       "68954  Hollywood Fwy S    R  Los Angeles  Los Angeles    CA   90026      US   \n",
       "68955          I-405 N    R  Los Angeles  Los Angeles    CA   90025      US   \n",
       "\n",
       "         Timezone Airport_Code    Weather_Timestamp  Temperature(F)  \\\n",
       "68951  US/Pacific         KSMO  2019-08-22 16:51:00            72.0   \n",
       "68952  US/Pacific         KCQT  2019-08-23 03:52:00            67.0   \n",
       "68953  US/Pacific         KCQT  2019-08-23 12:52:00            81.0   \n",
       "68954  US/Pacific         KCQT  2019-08-23 13:52:00            82.0   \n",
       "68955  US/Pacific         KSMO  2019-08-23 15:51:00            74.0   \n",
       "\n",
       "       Wind_Chill(F)  Humidity(%)  Pressure(in)  Visibility(mi)  \\\n",
       "68951           72.0         76.0         29.57            10.0   \n",
       "68952           67.0         79.0         29.62             7.0   \n",
       "68953           81.0         49.0         29.66             8.0   \n",
       "68954           82.0         47.0         29.65             9.0   \n",
       "68955           74.0         66.0         29.64            10.0   \n",
       "\n",
       "      Wind_Direction  Wind_Speed(mph)  Precipitation(in) Weather_Condition  \\\n",
       "68951             SW              8.0                0.0              Fair   \n",
       "68952           CALM              0.0                0.0            Cloudy   \n",
       "68953           CALM              0.0                0.0              Fair   \n",
       "68954           CALM              0.0                0.0              Fair   \n",
       "68955              W              8.0                0.0              Fair   \n",
       "\n",
       "       Amenity   Bump  Crossing  Give_Way  Junction  No_Exit  Railway  \\\n",
       "68951    False  False     False     False      True    False    False   \n",
       "68952    False  False     False     False     False    False    False   \n",
       "68953    False  False     False     False     False    False    False   \n",
       "68954    False  False     False     False      True    False    False   \n",
       "68955    False  False     False     False      True    False    False   \n",
       "\n",
       "       Roundabout  Station   Stop  Traffic_Calming  Traffic_Signal  \\\n",
       "68951       False    False  False            False           False   \n",
       "68952       False    False  False            False           False   \n",
       "68953       False    False  False            False           False   \n",
       "68954       False    False  False            False           False   \n",
       "68955       False    False  False            False           False   \n",
       "\n",
       "       Turning_Loop Sunrise_Sunset Civil_Twilight Nautical_Twilight  \\\n",
       "68951         False            Day            Day               Day   \n",
       "68952         False          Night          Night             Night   \n",
       "68953         False            Day            Day               Day   \n",
       "68954         False            Day            Day               Day   \n",
       "68955         False            Day            Day               Day   \n",
       "\n",
       "      Astronomical_Twilight  \n",
       "68951                   Day  \n",
       "68952                 Night  \n",
       "68953                   Day  \n",
       "68954                   Day  \n",
       "68955                   Day  "
      ]
     },
     "execution_count": 32,
     "metadata": {},
     "output_type": "execute_result"
    }
   ],
   "source": [
    "df.tail()"
   ]
  },
  {
   "cell_type": "code",
   "execution_count": null,
   "metadata": {},
   "outputs": [
    {
     "data": {
      "text/plain": [
       "'2021-12-31 21:47:00'"
      ]
     },
     "execution_count": 22,
     "metadata": {},
     "output_type": "execute_result"
    }
   ],
   "source": [
    "df['Start_Time'].max()"
   ]
  },
  {
   "cell_type": "code",
   "execution_count": null,
   "metadata": {},
   "outputs": [
    {
     "data": {
      "text/plain": [
       "'2016-03-22 19:36:44'"
      ]
     },
     "execution_count": 23,
     "metadata": {},
     "output_type": "execute_result"
    }
   ],
   "source": [
    "df['Start_Time'].min()"
   ]
  },
  {
   "cell_type": "code",
   "execution_count": null,
   "metadata": {},
   "outputs": [
    {
     "data": {
      "text/plain": [
       "0    False\n",
       "1    False\n",
       "2    False\n",
       "3    False\n",
       "4    False\n",
       "Name: Crossing, dtype: bool"
      ]
     },
     "execution_count": 24,
     "metadata": {},
     "output_type": "execute_result"
    }
   ],
   "source": [
    "df['Crossing'].head()"
   ]
  },
  {
   "cell_type": "code",
   "execution_count": 154,
   "metadata": {},
   "outputs": [],
   "source": [
    "df1 = df.copy()"
   ]
  },
  {
   "cell_type": "code",
   "execution_count": 152,
   "metadata": {},
   "outputs": [],
   "source": [
    "#df1.drop('Number',axis = 1, inplace = True)"
   ]
  },
  {
   "cell_type": "code",
   "execution_count": 153,
   "metadata": {},
   "outputs": [],
   "source": [
    "#df1.drop('Nautical_Twilight',axis = 1, inplace = True)"
   ]
  },
  {
   "cell_type": "code",
   "execution_count": 155,
   "metadata": {},
   "outputs": [],
   "source": [
    "listofcols = list(df.columns)"
   ]
  },
  {
   "cell_type": "code",
   "execution_count": 156,
   "metadata": {},
   "outputs": [
    {
     "data": {
      "text/plain": [
       "['ID',\n",
       " 'Severity',\n",
       " 'Start_Time',\n",
       " 'End_Time',\n",
       " 'Start_Lat',\n",
       " 'Start_Lng',\n",
       " 'End_Lat',\n",
       " 'End_Lng',\n",
       " 'Distance(mi)',\n",
       " 'Description',\n",
       " 'Number',\n",
       " 'Street',\n",
       " 'Side',\n",
       " 'City',\n",
       " 'County',\n",
       " 'State',\n",
       " 'Zipcode',\n",
       " 'Country',\n",
       " 'Timezone',\n",
       " 'Airport_Code',\n",
       " 'Weather_Timestamp',\n",
       " 'Temperature(F)',\n",
       " 'Wind_Chill(F)',\n",
       " 'Humidity(%)',\n",
       " 'Pressure(in)',\n",
       " 'Visibility(mi)',\n",
       " 'Wind_Direction',\n",
       " 'Wind_Speed(mph)',\n",
       " 'Precipitation(in)',\n",
       " 'Weather_Condition',\n",
       " 'Amenity',\n",
       " 'Bump',\n",
       " 'Crossing',\n",
       " 'Give_Way',\n",
       " 'Junction',\n",
       " 'No_Exit',\n",
       " 'Railway',\n",
       " 'Roundabout',\n",
       " 'Station',\n",
       " 'Stop',\n",
       " 'Traffic_Calming',\n",
       " 'Traffic_Signal',\n",
       " 'Turning_Loop',\n",
       " 'Sunrise_Sunset',\n",
       " 'Civil_Twilight',\n",
       " 'Nautical_Twilight',\n",
       " 'Astronomical_Twilight']"
      ]
     },
     "execution_count": 156,
     "metadata": {},
     "output_type": "execute_result"
    }
   ],
   "source": [
    "listofcols"
   ]
  },
  {
   "cell_type": "code",
   "execution_count": null,
   "metadata": {},
   "outputs": [],
   "source": [
    "colstokeep = ['ID',\n",
    " 'Severity',\n",
    " 'Start_Time',\n",
    " 'End_Time',\n",
    " 'Start_Lat',\n",
    " 'Start_Lng',\n",
    " 'End_Lat',\n",
    " 'End_Lng',\n",
    " 'Distance(mi)',\n",
    " 'City',\n",
    " 'Zipcode',\n",
    " 'Airport_Code',\n",
    " 'Temperature(F)',\n",
    " 'Wind_Chill(F)',\n",
    " 'Humidity(%)',\n",
    " 'Visibility(mi)',\n",
    " 'Precipitation(in)',\n",
    " 'Weather_Condition',\n",
    " 'Amenity',\n",
    " 'Bump',\n",
    " 'Crossing',\n",
    " 'Give_Way',\n",
    " 'Junction',\n",
    " 'No_Exit',\n",
    " 'Railway',\n",
    " 'Roundabout',\n",
    " 'Station',\n",
    " 'Stop',\n",
    " 'Traffic_Calming',\n",
    " 'Traffic_Signal',\n",
    " 'Turning_Loop',\n",
    " 'Civil_Twilight'\n",
    "]"
   ]
  },
  {
   "cell_type": "code",
   "execution_count": 157,
   "metadata": {},
   "outputs": [
    {
     "data": {
      "text/plain": [
       "['ID',\n",
       " 'Severity',\n",
       " 'Start_Time',\n",
       " 'End_Time',\n",
       " 'Start_Lat',\n",
       " 'Start_Lng',\n",
       " 'End_Lat',\n",
       " 'End_Lng',\n",
       " 'Distance(mi)',\n",
       " 'City',\n",
       " 'Zipcode',\n",
       " 'Airport_Code',\n",
       " 'Temperature(F)',\n",
       " 'Wind_Chill(F)',\n",
       " 'Humidity(%)',\n",
       " 'Visibility(mi)',\n",
       " 'Precipitation(in)',\n",
       " 'Weather_Condition',\n",
       " 'Amenity',\n",
       " 'Bump',\n",
       " 'Crossing',\n",
       " 'Give_Way',\n",
       " 'Junction',\n",
       " 'No_Exit',\n",
       " 'Railway',\n",
       " 'Roundabout',\n",
       " 'Station',\n",
       " 'Stop',\n",
       " 'Traffic_Calming',\n",
       " 'Traffic_Signal',\n",
       " 'Turning_Loop',\n",
       " 'Civil_Twilight']"
      ]
     },
     "execution_count": 157,
     "metadata": {},
     "output_type": "execute_result"
    }
   ],
   "source": [
    "colstokeep"
   ]
  },
  {
   "cell_type": "code",
   "execution_count": 158,
   "metadata": {},
   "outputs": [],
   "source": [
    "dfnew = df[colstokeep]"
   ]
  },
  {
   "cell_type": "code",
   "execution_count": 159,
   "metadata": {},
   "outputs": [
    {
     "data": {
      "text/plain": [
       "Index(['ID', 'Severity', 'Start_Time', 'End_Time', 'Start_Lat', 'Start_Lng',\n",
       "       'End_Lat', 'End_Lng', 'Distance(mi)', 'City', 'Zipcode', 'Airport_Code',\n",
       "       'Temperature(F)', 'Wind_Chill(F)', 'Humidity(%)', 'Visibility(mi)',\n",
       "       'Precipitation(in)', 'Weather_Condition', 'Amenity', 'Bump', 'Crossing',\n",
       "       'Give_Way', 'Junction', 'No_Exit', 'Railway', 'Roundabout', 'Station',\n",
       "       'Stop', 'Traffic_Calming', 'Traffic_Signal', 'Turning_Loop',\n",
       "       'Civil_Twilight'],\n",
       "      dtype='object')"
      ]
     },
     "execution_count": 159,
     "metadata": {},
     "output_type": "execute_result"
    }
   ],
   "source": [
    "dfnew.columns"
   ]
  },
  {
   "cell_type": "code",
   "execution_count": 160,
   "metadata": {},
   "outputs": [
    {
     "data": {
      "text/html": [
       "<div>\n",
       "<style scoped>\n",
       "    .dataframe tbody tr th:only-of-type {\n",
       "        vertical-align: middle;\n",
       "    }\n",
       "\n",
       "    .dataframe tbody tr th {\n",
       "        vertical-align: top;\n",
       "    }\n",
       "\n",
       "    .dataframe thead th {\n",
       "        text-align: right;\n",
       "    }\n",
       "</style>\n",
       "<table border=\"1\" class=\"dataframe\">\n",
       "  <thead>\n",
       "    <tr style=\"text-align: right;\">\n",
       "      <th></th>\n",
       "      <th>ID</th>\n",
       "      <th>Severity</th>\n",
       "      <th>Start_Time</th>\n",
       "      <th>End_Time</th>\n",
       "      <th>Start_Lat</th>\n",
       "      <th>Start_Lng</th>\n",
       "      <th>End_Lat</th>\n",
       "      <th>End_Lng</th>\n",
       "      <th>Distance(mi)</th>\n",
       "      <th>City</th>\n",
       "      <th>Zipcode</th>\n",
       "      <th>Airport_Code</th>\n",
       "      <th>Temperature(F)</th>\n",
       "      <th>Wind_Chill(F)</th>\n",
       "      <th>Humidity(%)</th>\n",
       "      <th>Visibility(mi)</th>\n",
       "      <th>Precipitation(in)</th>\n",
       "      <th>Weather_Condition</th>\n",
       "      <th>Amenity</th>\n",
       "      <th>Bump</th>\n",
       "      <th>Crossing</th>\n",
       "      <th>Give_Way</th>\n",
       "      <th>Junction</th>\n",
       "      <th>No_Exit</th>\n",
       "      <th>Railway</th>\n",
       "      <th>Roundabout</th>\n",
       "      <th>Station</th>\n",
       "      <th>Stop</th>\n",
       "      <th>Traffic_Calming</th>\n",
       "      <th>Traffic_Signal</th>\n",
       "      <th>Turning_Loop</th>\n",
       "      <th>Civil_Twilight</th>\n",
       "    </tr>\n",
       "  </thead>\n",
       "  <tbody>\n",
       "    <tr>\n",
       "      <th>0</th>\n",
       "      <td>A-5236</td>\n",
       "      <td>2</td>\n",
       "      <td>2016-03-22 19:36:44</td>\n",
       "      <td>2016-03-23 01:36:44</td>\n",
       "      <td>34.09256</td>\n",
       "      <td>-118.206220</td>\n",
       "      <td>34.092560</td>\n",
       "      <td>-118.206220</td>\n",
       "      <td>0.000</td>\n",
       "      <td>Los Angeles</td>\n",
       "      <td>90031</td>\n",
       "      <td>KCQT</td>\n",
       "      <td>64.0</td>\n",
       "      <td>NaN</td>\n",
       "      <td>24.0</td>\n",
       "      <td>10.0</td>\n",
       "      <td>NaN</td>\n",
       "      <td>Clear</td>\n",
       "      <td>False</td>\n",
       "      <td>False</td>\n",
       "      <td>False</td>\n",
       "      <td>False</td>\n",
       "      <td>False</td>\n",
       "      <td>False</td>\n",
       "      <td>False</td>\n",
       "      <td>False</td>\n",
       "      <td>False</td>\n",
       "      <td>True</td>\n",
       "      <td>False</td>\n",
       "      <td>False</td>\n",
       "      <td>False</td>\n",
       "      <td>Night</td>\n",
       "    </tr>\n",
       "    <tr>\n",
       "      <th>1</th>\n",
       "      <td>A-5239</td>\n",
       "      <td>2</td>\n",
       "      <td>2016-03-22 20:59:43</td>\n",
       "      <td>2016-03-23 02:59:43</td>\n",
       "      <td>33.94819</td>\n",
       "      <td>-118.279730</td>\n",
       "      <td>33.946760</td>\n",
       "      <td>-118.279750</td>\n",
       "      <td>0.099</td>\n",
       "      <td>Los Angeles</td>\n",
       "      <td>90003</td>\n",
       "      <td>KHHR</td>\n",
       "      <td>64.0</td>\n",
       "      <td>NaN</td>\n",
       "      <td>23.0</td>\n",
       "      <td>10.0</td>\n",
       "      <td>NaN</td>\n",
       "      <td>Clear</td>\n",
       "      <td>False</td>\n",
       "      <td>False</td>\n",
       "      <td>False</td>\n",
       "      <td>False</td>\n",
       "      <td>False</td>\n",
       "      <td>False</td>\n",
       "      <td>False</td>\n",
       "      <td>False</td>\n",
       "      <td>False</td>\n",
       "      <td>False</td>\n",
       "      <td>False</td>\n",
       "      <td>False</td>\n",
       "      <td>False</td>\n",
       "      <td>Night</td>\n",
       "    </tr>\n",
       "    <tr>\n",
       "      <th>2</th>\n",
       "      <td>A-5254</td>\n",
       "      <td>3</td>\n",
       "      <td>2016-03-23 07:59:47</td>\n",
       "      <td>2016-03-23 13:59:47</td>\n",
       "      <td>34.02330</td>\n",
       "      <td>-118.172880</td>\n",
       "      <td>34.021380</td>\n",
       "      <td>-118.173390</td>\n",
       "      <td>0.136</td>\n",
       "      <td>Los Angeles</td>\n",
       "      <td>90022</td>\n",
       "      <td>KCQT</td>\n",
       "      <td>55.9</td>\n",
       "      <td>NaN</td>\n",
       "      <td>53.0</td>\n",
       "      <td>10.0</td>\n",
       "      <td>NaN</td>\n",
       "      <td>Clear</td>\n",
       "      <td>False</td>\n",
       "      <td>False</td>\n",
       "      <td>False</td>\n",
       "      <td>False</td>\n",
       "      <td>True</td>\n",
       "      <td>False</td>\n",
       "      <td>False</td>\n",
       "      <td>False</td>\n",
       "      <td>False</td>\n",
       "      <td>False</td>\n",
       "      <td>False</td>\n",
       "      <td>False</td>\n",
       "      <td>False</td>\n",
       "      <td>Day</td>\n",
       "    </tr>\n",
       "    <tr>\n",
       "      <th>3</th>\n",
       "      <td>A-5272</td>\n",
       "      <td>2</td>\n",
       "      <td>2016-03-23 11:50:32</td>\n",
       "      <td>2016-03-23 17:50:32</td>\n",
       "      <td>34.14470</td>\n",
       "      <td>-118.278650</td>\n",
       "      <td>34.141040</td>\n",
       "      <td>-118.277840</td>\n",
       "      <td>0.257</td>\n",
       "      <td>Los Angeles</td>\n",
       "      <td>90027</td>\n",
       "      <td>KCQT</td>\n",
       "      <td>73.9</td>\n",
       "      <td>NaN</td>\n",
       "      <td>14.0</td>\n",
       "      <td>10.0</td>\n",
       "      <td>NaN</td>\n",
       "      <td>Clear</td>\n",
       "      <td>False</td>\n",
       "      <td>False</td>\n",
       "      <td>False</td>\n",
       "      <td>False</td>\n",
       "      <td>False</td>\n",
       "      <td>False</td>\n",
       "      <td>False</td>\n",
       "      <td>False</td>\n",
       "      <td>False</td>\n",
       "      <td>False</td>\n",
       "      <td>False</td>\n",
       "      <td>False</td>\n",
       "      <td>False</td>\n",
       "      <td>Day</td>\n",
       "    </tr>\n",
       "    <tr>\n",
       "      <th>4</th>\n",
       "      <td>A-5274</td>\n",
       "      <td>2</td>\n",
       "      <td>2016-03-23 12:16:45</td>\n",
       "      <td>2016-03-23 18:16:45</td>\n",
       "      <td>34.09914</td>\n",
       "      <td>-118.251853</td>\n",
       "      <td>34.099817</td>\n",
       "      <td>-118.251396</td>\n",
       "      <td>0.054</td>\n",
       "      <td>Los Angeles</td>\n",
       "      <td>90039</td>\n",
       "      <td>KCQT</td>\n",
       "      <td>73.9</td>\n",
       "      <td>NaN</td>\n",
       "      <td>14.0</td>\n",
       "      <td>10.0</td>\n",
       "      <td>NaN</td>\n",
       "      <td>Clear</td>\n",
       "      <td>False</td>\n",
       "      <td>False</td>\n",
       "      <td>False</td>\n",
       "      <td>False</td>\n",
       "      <td>False</td>\n",
       "      <td>False</td>\n",
       "      <td>False</td>\n",
       "      <td>False</td>\n",
       "      <td>False</td>\n",
       "      <td>False</td>\n",
       "      <td>False</td>\n",
       "      <td>False</td>\n",
       "      <td>False</td>\n",
       "      <td>Day</td>\n",
       "    </tr>\n",
       "  </tbody>\n",
       "</table>\n",
       "</div>"
      ],
      "text/plain": [
       "       ID  Severity           Start_Time             End_Time  Start_Lat  \\\n",
       "0  A-5236         2  2016-03-22 19:36:44  2016-03-23 01:36:44   34.09256   \n",
       "1  A-5239         2  2016-03-22 20:59:43  2016-03-23 02:59:43   33.94819   \n",
       "2  A-5254         3  2016-03-23 07:59:47  2016-03-23 13:59:47   34.02330   \n",
       "3  A-5272         2  2016-03-23 11:50:32  2016-03-23 17:50:32   34.14470   \n",
       "4  A-5274         2  2016-03-23 12:16:45  2016-03-23 18:16:45   34.09914   \n",
       "\n",
       "    Start_Lng    End_Lat     End_Lng  Distance(mi)         City Zipcode  \\\n",
       "0 -118.206220  34.092560 -118.206220         0.000  Los Angeles   90031   \n",
       "1 -118.279730  33.946760 -118.279750         0.099  Los Angeles   90003   \n",
       "2 -118.172880  34.021380 -118.173390         0.136  Los Angeles   90022   \n",
       "3 -118.278650  34.141040 -118.277840         0.257  Los Angeles   90027   \n",
       "4 -118.251853  34.099817 -118.251396         0.054  Los Angeles   90039   \n",
       "\n",
       "  Airport_Code  Temperature(F)  Wind_Chill(F)  Humidity(%)  Visibility(mi)  \\\n",
       "0         KCQT            64.0            NaN         24.0            10.0   \n",
       "1         KHHR            64.0            NaN         23.0            10.0   \n",
       "2         KCQT            55.9            NaN         53.0            10.0   \n",
       "3         KCQT            73.9            NaN         14.0            10.0   \n",
       "4         KCQT            73.9            NaN         14.0            10.0   \n",
       "\n",
       "   Precipitation(in) Weather_Condition  Amenity   Bump  Crossing  Give_Way  \\\n",
       "0                NaN             Clear    False  False     False     False   \n",
       "1                NaN             Clear    False  False     False     False   \n",
       "2                NaN             Clear    False  False     False     False   \n",
       "3                NaN             Clear    False  False     False     False   \n",
       "4                NaN             Clear    False  False     False     False   \n",
       "\n",
       "   Junction  No_Exit  Railway  Roundabout  Station   Stop  Traffic_Calming  \\\n",
       "0     False    False    False       False    False   True            False   \n",
       "1     False    False    False       False    False  False            False   \n",
       "2      True    False    False       False    False  False            False   \n",
       "3     False    False    False       False    False  False            False   \n",
       "4     False    False    False       False    False  False            False   \n",
       "\n",
       "   Traffic_Signal  Turning_Loop Civil_Twilight  \n",
       "0           False         False          Night  \n",
       "1           False         False          Night  \n",
       "2           False         False            Day  \n",
       "3           False         False            Day  \n",
       "4           False         False            Day  "
      ]
     },
     "execution_count": 160,
     "metadata": {},
     "output_type": "execute_result"
    }
   ],
   "source": [
    "dfnew.head()"
   ]
  },
  {
   "cell_type": "code",
   "execution_count": 161,
   "metadata": {},
   "outputs": [
    {
     "data": {
      "text/plain": [
       "(68956, 32)"
      ]
     },
     "execution_count": 161,
     "metadata": {},
     "output_type": "execute_result"
    }
   ],
   "source": [
    "dfnew.shape"
   ]
  },
  {
   "cell_type": "code",
   "execution_count": 162,
   "metadata": {},
   "outputs": [
    {
     "data": {
      "text/plain": [
       "ID                       0\n",
       "Severity                 0\n",
       "Start_Time               0\n",
       "End_Time                 0\n",
       "Start_Lat                0\n",
       "Start_Lng                0\n",
       "End_Lat                  0\n",
       "End_Lng                  0\n",
       "Distance(mi)             0\n",
       "City                     0\n",
       "Zipcode                  0\n",
       "Airport_Code             0\n",
       "Temperature(F)         542\n",
       "Wind_Chill(F)        12362\n",
       "Humidity(%)            552\n",
       "Visibility(mi)         326\n",
       "Precipitation(in)    10528\n",
       "Weather_Condition      301\n",
       "Amenity                  0\n",
       "Bump                     0\n",
       "Crossing                 0\n",
       "Give_Way                 0\n",
       "Junction                 0\n",
       "No_Exit                  0\n",
       "Railway                  0\n",
       "Roundabout               0\n",
       "Station                  0\n",
       "Stop                     0\n",
       "Traffic_Calming          0\n",
       "Traffic_Signal           0\n",
       "Turning_Loop             0\n",
       "Civil_Twilight           0\n",
       "dtype: int64"
      ]
     },
     "execution_count": 162,
     "metadata": {},
     "output_type": "execute_result"
    }
   ],
   "source": [
    "dfnew.isna().sum()"
   ]
  },
  {
   "cell_type": "code",
   "execution_count": null,
   "metadata": {},
   "outputs": [
    {
     "name": "stderr",
     "output_type": "stream",
     "text": [
      "C:\\Users\\kathe\\AppData\\Local\\Temp\\ipykernel_21488\\1722201879.py:1: SettingWithCopyWarning: \n",
      "A value is trying to be set on a copy of a slice from a DataFrame\n",
      "\n",
      "See the caveats in the documentation: https://pandas.pydata.org/pandas-docs/stable/user_guide/indexing.html#returning-a-view-versus-a-copy\n",
      "  dfnew.dropna(inplace = True)\n"
     ]
    }
   ],
   "source": [
    "#dfnew.dropna(inplace = True)"
   ]
  },
  {
   "cell_type": "code",
   "execution_count": null,
   "metadata": {},
   "outputs": [],
   "source": [
    "#dfnew.to_csv('LABFinal.csv')"
   ]
  },
  {
   "cell_type": "code",
   "execution_count": 163,
   "metadata": {},
   "outputs": [
    {
     "name": "stderr",
     "output_type": "stream",
     "text": [
      "C:\\Users\\kathe\\AppData\\Local\\Temp\\ipykernel_21488\\1397742529.py:1: SettingWithCopyWarning: \n",
      "A value is trying to be set on a copy of a slice from a DataFrame.\n",
      "Try using .loc[row_indexer,col_indexer] = value instead\n",
      "\n",
      "See the caveats in the documentation: https://pandas.pydata.org/pandas-docs/stable/user_guide/indexing.html#returning-a-view-versus-a-copy\n",
      "  dfnew['Start_Time'] = pd.to_datetime(dfnew['Start_Time'])\n"
     ]
    }
   ],
   "source": [
    "dfnew['Start_Time'] = pd.to_datetime(dfnew['Start_Time'])"
   ]
  },
  {
   "cell_type": "code",
   "execution_count": 164,
   "metadata": {},
   "outputs": [
    {
     "name": "stderr",
     "output_type": "stream",
     "text": [
      "C:\\Users\\kathe\\AppData\\Local\\Temp\\ipykernel_21488\\3402304659.py:1: SettingWithCopyWarning: \n",
      "A value is trying to be set on a copy of a slice from a DataFrame.\n",
      "Try using .loc[row_indexer,col_indexer] = value instead\n",
      "\n",
      "See the caveats in the documentation: https://pandas.pydata.org/pandas-docs/stable/user_guide/indexing.html#returning-a-view-versus-a-copy\n",
      "  dfnew['End_Time'] = pd.to_datetime(dfnew['End_Time'])\n"
     ]
    }
   ],
   "source": [
    "dfnew['End_Time'] = pd.to_datetime(dfnew['End_Time'])"
   ]
  },
  {
   "cell_type": "code",
   "execution_count": 165,
   "metadata": {},
   "outputs": [
    {
     "name": "stderr",
     "output_type": "stream",
     "text": [
      "C:\\Users\\kathe\\AppData\\Local\\Temp\\ipykernel_21488\\596517285.py:1: SettingWithCopyWarning: \n",
      "A value is trying to be set on a copy of a slice from a DataFrame.\n",
      "Try using .loc[row_indexer,col_indexer] = value instead\n",
      "\n",
      "See the caveats in the documentation: https://pandas.pydata.org/pandas-docs/stable/user_guide/indexing.html#returning-a-view-versus-a-copy\n",
      "  dfnew['StartYear'] = dfnew['Start_Time'].dt.year\n"
     ]
    }
   ],
   "source": [
    "dfnew['StartYear'] = dfnew['Start_Time'].dt.year"
   ]
  },
  {
   "cell_type": "code",
   "execution_count": 166,
   "metadata": {},
   "outputs": [
    {
     "name": "stderr",
     "output_type": "stream",
     "text": [
      "C:\\Users\\kathe\\AppData\\Local\\Temp\\ipykernel_21488\\3799390662.py:1: SettingWithCopyWarning: \n",
      "A value is trying to be set on a copy of a slice from a DataFrame.\n",
      "Try using .loc[row_indexer,col_indexer] = value instead\n",
      "\n",
      "See the caveats in the documentation: https://pandas.pydata.org/pandas-docs/stable/user_guide/indexing.html#returning-a-view-versus-a-copy\n",
      "  dfnew['StartMonth'] = dfnew['Start_Time'].dt.month\n"
     ]
    }
   ],
   "source": [
    "dfnew['StartMonth'] = dfnew['Start_Time'].dt.month"
   ]
  },
  {
   "cell_type": "code",
   "execution_count": 167,
   "metadata": {},
   "outputs": [
    {
     "data": {
      "text/plain": [
       "0   2016-03-22 19:36:44\n",
       "1   2016-03-22 20:59:43\n",
       "2   2016-03-23 07:59:47\n",
       "3   2016-03-23 11:50:32\n",
       "4   2016-03-23 12:16:45\n",
       "Name: Start_Time, dtype: datetime64[ns]"
      ]
     },
     "execution_count": 167,
     "metadata": {},
     "output_type": "execute_result"
    }
   ],
   "source": [
    "dfnew['Start_Time'].head()"
   ]
  },
  {
   "cell_type": "code",
   "execution_count": 168,
   "metadata": {},
   "outputs": [
    {
     "name": "stderr",
     "output_type": "stream",
     "text": [
      "C:\\Users\\kathe\\AppData\\Local\\Temp\\ipykernel_21488\\395169355.py:1: SettingWithCopyWarning: \n",
      "A value is trying to be set on a copy of a slice from a DataFrame.\n",
      "Try using .loc[row_indexer,col_indexer] = value instead\n",
      "\n",
      "See the caveats in the documentation: https://pandas.pydata.org/pandas-docs/stable/user_guide/indexing.html#returning-a-view-versus-a-copy\n",
      "  dfnew['StartDay'] = dfnew['Start_Time'].dt.day_of_week\n"
     ]
    }
   ],
   "source": [
    "dfnew['StartDay'] = dfnew['Start_Time'].dt.day_of_week"
   ]
  },
  {
   "cell_type": "code",
   "execution_count": 169,
   "metadata": {},
   "outputs": [
    {
     "data": {
      "text/plain": [
       "0    1\n",
       "1    1\n",
       "2    2\n",
       "3    2\n",
       "4    2\n",
       "Name: StartDay, dtype: int64"
      ]
     },
     "execution_count": 169,
     "metadata": {},
     "output_type": "execute_result"
    }
   ],
   "source": [
    "dfnew['StartDay'].head()"
   ]
  },
  {
   "cell_type": "code",
   "execution_count": 184,
   "metadata": {},
   "outputs": [
    {
     "name": "stderr",
     "output_type": "stream",
     "text": [
      "C:\\Users\\kathe\\AppData\\Local\\Temp\\ipykernel_21488\\2464920105.py:1: SettingWithCopyWarning: \n",
      "A value is trying to be set on a copy of a slice from a DataFrame.\n",
      "Try using .loc[row_indexer,col_indexer] = value instead\n",
      "\n",
      "See the caveats in the documentation: https://pandas.pydata.org/pandas-docs/stable/user_guide/indexing.html#returning-a-view-versus-a-copy\n",
      "  dfnew['StartTime'] = pd.to_datetime(dfnew['Start_Time']).dt.strftime('%H:%M:%S')\n",
      "C:\\Users\\kathe\\AppData\\Local\\Temp\\ipykernel_21488\\2464920105.py:2: SettingWithCopyWarning: \n",
      "A value is trying to be set on a copy of a slice from a DataFrame.\n",
      "Try using .loc[row_indexer,col_indexer] = value instead\n",
      "\n",
      "See the caveats in the documentation: https://pandas.pydata.org/pandas-docs/stable/user_guide/indexing.html#returning-a-view-versus-a-copy\n",
      "  dfnew['EndTime'] = pd.to_datetime(dfnew['End_Time']).dt.strftime('%H:%M:%S')\n"
     ]
    }
   ],
   "source": [
    "dfnew['StartTime'] = pd.to_datetime(dfnew['Start_Time']).dt.strftime('%H:%M:%S')\n",
    "dfnew['EndTime'] = pd.to_datetime(dfnew['End_Time']).dt.strftime('%H:%M:%S')"
   ]
  },
  {
   "cell_type": "code",
   "execution_count": 185,
   "metadata": {},
   "outputs": [
    {
     "data": {
      "text/plain": [
       "0    01:36:44\n",
       "1    02:59:43\n",
       "2    13:59:47\n",
       "3    17:50:32\n",
       "4    18:16:45\n",
       "Name: EndTime, dtype: object"
      ]
     },
     "execution_count": 185,
     "metadata": {},
     "output_type": "execute_result"
    }
   ],
   "source": [
    "dfnew['EndTime'].head()"
   ]
  },
  {
   "cell_type": "code",
   "execution_count": 179,
   "metadata": {},
   "outputs": [
    {
     "data": {
      "text/plain": [
       "0    19:36:44\n",
       "1    20:59:43\n",
       "2    07:59:47\n",
       "3    11:50:32\n",
       "4    12:16:45\n",
       "Name: StartTime, dtype: object"
      ]
     },
     "execution_count": 179,
     "metadata": {},
     "output_type": "execute_result"
    }
   ],
   "source": [
    "dfnew['StartTime'].head()"
   ]
  },
  {
   "cell_type": "code",
   "execution_count": 186,
   "metadata": {},
   "outputs": [
    {
     "name": "stderr",
     "output_type": "stream",
     "text": [
      "C:\\Users\\kathe\\AppData\\Local\\Temp\\ipykernel_21488\\3658621450.py:1: SettingWithCopyWarning: \n",
      "A value is trying to be set on a copy of a slice from a DataFrame.\n",
      "Try using .loc[row_indexer,col_indexer] = value instead\n",
      "\n",
      "See the caveats in the documentation: https://pandas.pydata.org/pandas-docs/stable/user_guide/indexing.html#returning-a-view-versus-a-copy\n",
      "  dfnew['StartDate'] = pd.to_datetime(dfnew['Start_Time']).dt.date\n"
     ]
    }
   ],
   "source": [
    "dfnew['StartDate'] = pd.to_datetime(dfnew['Start_Time']).dt.date"
   ]
  },
  {
   "cell_type": "code",
   "execution_count": 187,
   "metadata": {},
   "outputs": [
    {
     "name": "stderr",
     "output_type": "stream",
     "text": [
      "C:\\Users\\kathe\\AppData\\Local\\Temp\\ipykernel_21488\\871911445.py:1: SettingWithCopyWarning: \n",
      "A value is trying to be set on a copy of a slice from a DataFrame.\n",
      "Try using .loc[row_indexer,col_indexer] = value instead\n",
      "\n",
      "See the caveats in the documentation: https://pandas.pydata.org/pandas-docs/stable/user_guide/indexing.html#returning-a-view-versus-a-copy\n",
      "  dfnew['EndDate'] = pd.to_datetime(dfnew['End_Time']).dt.date\n"
     ]
    }
   ],
   "source": [
    "dfnew['EndDate'] = pd.to_datetime(dfnew['End_Time']).dt.date"
   ]
  },
  {
   "cell_type": "code",
   "execution_count": 188,
   "metadata": {},
   "outputs": [],
   "source": [
    "dfnew.to_csv('LAFinalTimes.csv')"
   ]
  },
  {
   "cell_type": "code",
   "execution_count": 189,
   "metadata": {},
   "outputs": [
    {
     "name": "stdout",
     "output_type": "stream",
     "text": [
      "<class 'pandas.core.frame.DataFrame'>\n",
      "RangeIndex: 68956 entries, 0 to 68955\n",
      "Data columns (total 39 columns):\n",
      " #   Column             Non-Null Count  Dtype         \n",
      "---  ------             --------------  -----         \n",
      " 0   ID                 68956 non-null  object        \n",
      " 1   Severity           68956 non-null  int64         \n",
      " 2   Start_Time         68956 non-null  datetime64[ns]\n",
      " 3   End_Time           68956 non-null  datetime64[ns]\n",
      " 4   Start_Lat          68956 non-null  float64       \n",
      " 5   Start_Lng          68956 non-null  float64       \n",
      " 6   End_Lat            68956 non-null  float64       \n",
      " 7   End_Lng            68956 non-null  float64       \n",
      " 8   Distance(mi)       68956 non-null  float64       \n",
      " 9   City               68956 non-null  object        \n",
      " 10  Zipcode            68956 non-null  object        \n",
      " 11  Airport_Code       68956 non-null  object        \n",
      " 12  Temperature(F)     68414 non-null  float64       \n",
      " 13  Wind_Chill(F)      56594 non-null  float64       \n",
      " 14  Humidity(%)        68404 non-null  float64       \n",
      " 15  Visibility(mi)     68630 non-null  float64       \n",
      " 16  Precipitation(in)  58428 non-null  float64       \n",
      " 17  Weather_Condition  68655 non-null  object        \n",
      " 18  Amenity            68956 non-null  bool          \n",
      " 19  Bump               68956 non-null  bool          \n",
      " 20  Crossing           68956 non-null  bool          \n",
      " 21  Give_Way           68956 non-null  bool          \n",
      " 22  Junction           68956 non-null  bool          \n",
      " 23  No_Exit            68956 non-null  bool          \n",
      " 24  Railway            68956 non-null  bool          \n",
      " 25  Roundabout         68956 non-null  bool          \n",
      " 26  Station            68956 non-null  bool          \n",
      " 27  Stop               68956 non-null  bool          \n",
      " 28  Traffic_Calming    68956 non-null  bool          \n",
      " 29  Traffic_Signal     68956 non-null  bool          \n",
      " 30  Turning_Loop       68956 non-null  bool          \n",
      " 31  Civil_Twilight     68956 non-null  object        \n",
      " 32  StartYear          68956 non-null  int64         \n",
      " 33  StartMonth         68956 non-null  int64         \n",
      " 34  StartDay           68956 non-null  int64         \n",
      " 35  StartTime          68956 non-null  object        \n",
      " 36  StartDate          68956 non-null  object        \n",
      " 37  EndDate            68956 non-null  object        \n",
      " 38  EndTime            68956 non-null  object        \n",
      "dtypes: bool(13), datetime64[ns](2), float64(10), int64(4), object(10)\n",
      "memory usage: 14.5+ MB\n"
     ]
    }
   ],
   "source": [
    "dfnew.info()"
   ]
  },
  {
   "cell_type": "code",
   "execution_count": null,
   "metadata": {},
   "outputs": [
    {
     "data": {
      "text/plain": [
       "array([90031, 90003, 90022, ..., '90022-5208', '90015-3429', '90061-2745'],\n",
       "      dtype=object)"
      ]
     },
     "execution_count": 115,
     "metadata": {},
     "output_type": "execute_result"
    }
   ],
   "source": [
    "dfnew['Zipcode'].unique()"
   ]
  },
  {
   "cell_type": "code",
   "execution_count": null,
   "metadata": {},
   "outputs": [
    {
     "name": "stdout",
     "output_type": "stream",
     "text": [
      "<class 'pandas.core.frame.DataFrame'>\n",
      "RangeIndex: 68956 entries, 0 to 68955\n",
      "Data columns (total 39 columns):\n",
      " #   Column             Non-Null Count  Dtype         \n",
      "---  ------             --------------  -----         \n",
      " 0   ID                 68956 non-null  object        \n",
      " 1   Severity           68956 non-null  int64         \n",
      " 2   Start_Time         68956 non-null  datetime64[ns]\n",
      " 3   End_Time           68956 non-null  datetime64[ns]\n",
      " 4   Start_Lat          0 non-null      float64       \n",
      " 5   Start_Lng          68956 non-null  float64       \n",
      " 6   End_Lat            68956 non-null  float64       \n",
      " 7   End_Lng            68956 non-null  float64       \n",
      " 8   Distance(mi)       68956 non-null  float64       \n",
      " 9   City               68956 non-null  object        \n",
      " 10  Zipcode            68956 non-null  object        \n",
      " 11  Airport_Code       68956 non-null  object        \n",
      " 12  Temperature(F)     68414 non-null  float64       \n",
      " 13  Wind_Chill(F)      56594 non-null  float64       \n",
      " 14  Humidity(%)        68404 non-null  float64       \n",
      " 15  Visibility(mi)     68630 non-null  float64       \n",
      " 16  Precipitation(in)  58428 non-null  float64       \n",
      " 17  Weather_Condition  68655 non-null  object        \n",
      " 18  Amenity            68956 non-null  bool          \n",
      " 19  Bump               68956 non-null  bool          \n",
      " 20  Crossing           68956 non-null  bool          \n",
      " 21  Give_Way           68956 non-null  bool          \n",
      " 22  Junction           68956 non-null  bool          \n",
      " 23  No_Exit            68956 non-null  bool          \n",
      " 24  Railway            68956 non-null  bool          \n",
      " 25  Roundabout         68956 non-null  bool          \n",
      " 26  Station            68956 non-null  bool          \n",
      " 27  Stop               68956 non-null  bool          \n",
      " 28  Traffic_Calming    68956 non-null  bool          \n",
      " 29  Traffic_Signal     68956 non-null  bool          \n",
      " 30  Turning_Loop       68956 non-null  bool          \n",
      " 31  Civil_Twilight     68956 non-null  object        \n",
      " 32  StartYear          68956 non-null  int64         \n",
      " 33  StartMonth         68956 non-null  int64         \n",
      " 34  StartDay           68956 non-null  int64         \n",
      " 35  StartTime          68956 non-null  object        \n",
      " 36  StartDate          68956 non-null  object        \n",
      " 37  EndDate            68956 non-null  object        \n",
      " 38  EndTime            68956 non-null  object        \n",
      "dtypes: bool(13), datetime64[ns](2), float64(10), int64(4), object(10)\n",
      "memory usage: 14.5+ MB\n"
     ]
    }
   ],
   "source": [
    "dfnew.info()"
   ]
  },
  {
   "cell_type": "code",
   "execution_count": null,
   "metadata": {},
   "outputs": [
    {
     "data": {
      "text/plain": [
       "0    90031\n",
       "1    90003\n",
       "2    90022\n",
       "3    90027\n",
       "4    90039\n",
       "Name: Zipcode, dtype: object"
      ]
     },
     "execution_count": 116,
     "metadata": {},
     "output_type": "execute_result"
    }
   ],
   "source": [
    "dfnew['Zipcode'].head()"
   ]
  },
  {
   "cell_type": "code",
   "execution_count": null,
   "metadata": {},
   "outputs": [
    {
     "data": {
      "text/plain": [
       "0    0.000\n",
       "1    0.099\n",
       "2    0.136\n",
       "3    0.257\n",
       "4    0.054\n",
       "Name: Distance(mi), dtype: float64"
      ]
     },
     "execution_count": 121,
     "metadata": {},
     "output_type": "execute_result"
    }
   ],
   "source": [
    "dfnew['Distance(mi)'].head()"
   ]
  },
  {
   "cell_type": "code",
   "execution_count": null,
   "metadata": {},
   "outputs": [
    {
     "data": {
      "text/plain": [
       "0    24.0\n",
       "1    23.0\n",
       "2    53.0\n",
       "3    14.0\n",
       "4    14.0\n",
       "Name: Humidity(%), dtype: float64"
      ]
     },
     "execution_count": 122,
     "metadata": {},
     "output_type": "execute_result"
    }
   ],
   "source": [
    "dfnew['Humidity(%)'].head()"
   ]
  },
  {
   "cell_type": "code",
   "execution_count": 190,
   "metadata": {},
   "outputs": [
    {
     "data": {
      "text/plain": [
       "0    19:36:44\n",
       "1    20:59:43\n",
       "2    07:59:47\n",
       "3    11:50:32\n",
       "4    12:16:45\n",
       "Name: StartTime, dtype: object"
      ]
     },
     "execution_count": 190,
     "metadata": {},
     "output_type": "execute_result"
    }
   ],
   "source": [
    "dfnew['StartTime'].head()"
   ]
  },
  {
   "cell_type": "code",
   "execution_count": null,
   "metadata": {},
   "outputs": [],
   "source": []
  }
 ],
 "metadata": {
  "kernelspec": {
   "display_name": "base",
   "language": "python",
   "name": "python3"
  },
  "language_info": {
   "codemirror_mode": {
    "name": "ipython",
    "version": 3
   },
   "file_extension": ".py",
   "mimetype": "text/x-python",
   "name": "python",
   "nbconvert_exporter": "python",
   "pygments_lexer": "ipython3",
   "version": "3.9.17"
  }
 },
 "nbformat": 4,
 "nbformat_minor": 2
}
